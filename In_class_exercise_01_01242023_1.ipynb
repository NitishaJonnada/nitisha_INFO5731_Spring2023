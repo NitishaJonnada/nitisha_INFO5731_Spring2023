{
  "cells": [
    {
      "cell_type": "markdown",
      "metadata": {
        "id": "view-in-github",
        "colab_type": "text"
      },
      "source": [
        "<a href=\"https://colab.research.google.com/github/NitishaJonnada/nitisha_INFO5731_Spring2023/blob/main/In_class_exercise_01_01242023_1.ipynb\" target=\"_parent\"><img src=\"https://colab.research.google.com/assets/colab-badge.svg\" alt=\"Open In Colab\"/></a>"
      ]
    },
    {
      "cell_type": "markdown",
      "metadata": {
        "id": "DymRJbxDBCnf"
      },
      "source": [
        "# **The first In-class-exercise (01/24/2023, 40 points in total)**"
      ]
    },
    {
      "cell_type": "markdown",
      "metadata": {
        "id": "03jb4GZsBkBS"
      },
      "source": [
        "(1) Write a Python program to calculate the length of a string. (4 points)"
      ]
    },
    {
      "cell_type": "code",
      "execution_count": 1,
      "metadata": {
        "id": "YaGLbSHHB8Ej",
        "colab": {
          "base_uri": "https://localhost:8080/"
        },
        "outputId": "dbf865d2-c776-4fc8-a5f5-152c068b914b"
      },
      "outputs": [
        {
          "output_type": "stream",
          "name": "stdout",
          "text": [
            "Enter a string: nitisha\n",
            "Length of the string is: 7\n"
          ]
        }
      ],
      "source": [
        "# write your answer here\n",
        "l = input(\"Enter a string: \") \n",
        "print(\"Length of the string is:\", len(l))"
      ]
    },
    {
      "cell_type": "markdown",
      "metadata": {
        "id": "jJDe71iLB616"
      },
      "source": [
        "(2) Write a Python program to count the number of characters in a string. (4 points)\n",
        "\n",
        "Sample String : 'google.com‘, \n",
        "\n",
        "Expected Result : {'o': 3, 'g': 2, '.': 1, 'e': 1, 'l': 1, 'm': 1, 'c': 1}"
      ]
    },
    {
      "cell_type": "code",
      "execution_count": 2,
      "metadata": {
        "id": "MtKskTzbCLaU",
        "colab": {
          "base_uri": "https://localhost:8080/"
        },
        "outputId": "b6e6bf18-1076-464e-bd8b-a6c8f6076a19"
      },
      "outputs": [
        {
          "output_type": "stream",
          "name": "stdout",
          "text": [
            "{'g': 2, 'o': 3, 'l': 1, 'e': 1, '.': 1, 'c': 1, 'm': 1}\n"
          ]
        }
      ],
      "source": [
        "# write your answer here\n",
        "def count_character(str):\n",
        "    dict = {}\n",
        "    for i in str:\n",
        "        keys = dict.keys()\n",
        "        if i in keys:\n",
        "            dict[i] += 1\n",
        "        else:\n",
        "            dict[i] = 1\n",
        "    return dict\n",
        "print(count_character('google.com'))"
      ]
    },
    {
      "cell_type": "markdown",
      "metadata": {
        "id": "55W9AMdXCSpV"
      },
      "source": [
        "(3) Write a Python program to sum all the items in a list. (4 points)"
      ]
    },
    {
      "cell_type": "code",
      "execution_count": 3,
      "metadata": {
        "id": "I57NXsauCec2",
        "colab": {
          "base_uri": "https://localhost:8080/"
        },
        "outputId": "1617b150-3779-4e02-89f3-34b8dbb9a010"
      },
      "outputs": [
        {
          "output_type": "stream",
          "name": "stdout",
          "text": [
            "Sum of items in list: 28\n"
          ]
        }
      ],
      "source": [
        "# write your answer here\n",
        "list = [1, 2, 3, 4, 5, 6, 7] \n",
        "total = sum(list) \n",
        "print(\"Sum of items in list:\",total) "
      ]
    },
    {
      "cell_type": "markdown",
      "metadata": {
        "id": "4ulBZ6yhCi9F"
      },
      "source": [
        "(4) Write a Python program to get a string from a given string where all occurrences of its first char have been changed to '\\$', except the first char itself. (4 points)\n",
        "\n",
        "Sample String : 'restart‘, \n",
        "\n",
        "Expected Result : 'resta\\$t'"
      ]
    },
    {
      "cell_type": "code",
      "execution_count": 4,
      "metadata": {
        "id": "Fj0XhwbBCw2o",
        "colab": {
          "base_uri": "https://localhost:8080/"
        },
        "outputId": "9c7df4ea-0aff-4dee-8084-0a8d35a6b76a"
      },
      "outputs": [
        {
          "output_type": "stream",
          "name": "stdout",
          "text": [
            "resta$t\n"
          ]
        }
      ],
      "source": [
        "# write your answer here\n",
        "def character_change(str):\n",
        "    character = str[0]\n",
        "    str = str.replace (character, '$')\n",
        "    str = character + str [1 : ]\n",
        "    return str\n",
        "print(character_change('restart'))"
      ]
    },
    {
      "cell_type": "markdown",
      "metadata": {
        "id": "_bIP7s1MCzue"
      },
      "source": [
        "(5) Write a program with python which could accept two parameter a and b to calculate and output the result of S, where \n",
        "\n",
        "$\\ S=3.14*(1+a/b)^3$ (4 points)\n",
        "\n"
      ]
    },
    {
      "cell_type": "code",
      "execution_count": 5,
      "metadata": {
        "id": "w79QilHXD3Mg",
        "colab": {
          "base_uri": "https://localhost:8080/"
        },
        "outputId": "ad035429-3c4e-419a-a8f7-ea595ed275e9"
      },
      "outputs": [
        {
          "output_type": "stream",
          "name": "stdout",
          "text": [
            "Enter a value: 5\n",
            "Enter b value: 7\n",
            "S value is : 15.81900874635569\n"
          ]
        }
      ],
      "source": [
        "# write your answer here\n",
        "a = int(input(\"Enter a value: \"))\n",
        "b = int(input(\"Enter b value: \"))\n",
        "d = (1 + a/b)**3\n",
        "S = 3.14 * d\n",
        "print(\"S value is :\", S)"
      ]
    },
    {
      "cell_type": "markdown",
      "metadata": {
        "id": "xCa2bK9aD4Q3"
      },
      "source": [
        "(6) Write a Python program to concatenate following dictionaries to create a new one. (4 points)\n",
        "\n",
        "Sample Dictionary : dic1={1:10, 2:20}, dic2={3:30, 4:40}, dic3={5:50,6:60}, \n",
        "\n",
        "Expected Result : {1: 10, 2: 20, 3: 30, 4: 40, 5: 50, 6: 60}\n"
      ]
    },
    {
      "cell_type": "code",
      "execution_count": 6,
      "metadata": {
        "id": "_z4aLqAbEET1",
        "colab": {
          "base_uri": "https://localhost:8080/"
        },
        "outputId": "58890dec-0d37-4650-c42f-f623d78945e0"
      },
      "outputs": [
        {
          "output_type": "stream",
          "name": "stdout",
          "text": [
            "{1: 10, 2: 20, 3: 30, 4: 40, 5: 50, 6: 60}\n"
          ]
        }
      ],
      "source": [
        "# write your answer here\n",
        "dic1={1:10, 2:20}\n",
        "dic2={3:30, 4:40}\n",
        "dic3={5:50,6:60}\n",
        "dic4 = {**dic1,**dic2,**dic3}  \n",
        "print(dic4) "
      ]
    },
    {
      "cell_type": "markdown",
      "metadata": {
        "id": "0v48Vqa7FrQh"
      },
      "source": [
        "(7) Write a Python program to check whether an element exists within a tuple. (4 points)"
      ]
    },
    {
      "cell_type": "code",
      "execution_count": 8,
      "metadata": {
        "id": "7WEmgq-DF2P1",
        "colab": {
          "base_uri": "https://localhost:8080/"
        },
        "outputId": "d450865e-ae06-4c66-cc74-115e7d92eb7a"
      },
      "outputs": [
        {
          "output_type": "stream",
          "name": "stdout",
          "text": [
            "exists in tuple\n"
          ]
        }
      ],
      "source": [
        "# write your answer here\n",
        "tuple = (1,2,3,4,5)\n",
        "element = 5\n",
        "if element in tuple:\n",
        "    print(\"exists in tuple\")\n",
        "else:\n",
        "    print(\"does not exist in tuple\")"
      ]
    },
    {
      "cell_type": "markdown",
      "metadata": {
        "id": "vD5PYLMuGga_"
      },
      "source": [
        "(8) Write a Python program to find maximum and the minimum value in a set. (4 points)"
      ]
    },
    {
      "cell_type": "code",
      "execution_count": 9,
      "metadata": {
        "id": "t0D5kdJUGjjw",
        "colab": {
          "base_uri": "https://localhost:8080/"
        },
        "outputId": "745f2e46-0135-4c48-c9ab-9e01e4f9a053"
      },
      "outputs": [
        {
          "output_type": "stream",
          "name": "stdout",
          "text": [
            "1\n",
            "38\n"
          ]
        }
      ],
      "source": [
        "# write your answer here\n",
        "a = {3, 2, 1, 38, 25}\n",
        "print(min(a))\n",
        "print(max(a))"
      ]
    },
    {
      "cell_type": "markdown",
      "metadata": {
        "id": "uHkd-y5VhVWC"
      },
      "source": [
        "(9) Write a Python program to randomly divide the students in this class into six groups for term projects, each group should have at least 4 students but no more than 6 students (including 6). Here is the students list: (4 points)\n",
        "\n",
        "studnet_list = ['ja0964','sa1198','sb1357','vb0218','sc1229','kg0569','kg0470','sg1297','bg0320','fh0141','jl1252','sk1386',\n",
        "           'ak0956','sk1390','sk1458','sk1313','ak0934','vm0377','nm0618','sm1640','sm1907','gn0108','pr0353','dr0609','ms1500','aos0040','ds0814', 'av0659','nv0234','hy0232']"
      ]
    },
    {
      "cell_type": "code",
      "execution_count": 17,
      "metadata": {
        "id": "3iGbmcOBhTwy",
        "colab": {
          "base_uri": "https://localhost:8080/"
        },
        "outputId": "25b1e8b8-e0b6-4e89-af26-b2f0ec0aaee3"
      },
      "outputs": [
        {
          "output_type": "stream",
          "name": "stdout",
          "text": [
            "Group 1: ['sk1390', 'sa1198', 'hy0232', 'kg0569', 'kg0470']\n",
            "Group 2: ['nm0618', 'sk1386', 'av0659', 'jl1252', 'pr0353']\n",
            "Group 3: ['fh0141', 'sk1313', 'aos0040', 'nv0234', 'sb1357']\n",
            "Group 4: ['sg1297', 'sm1640', 'gn0108', 'ms1500', 'sm1907']\n",
            "Group 5: ['ja0964', 'sk1458', 'dr0609', 'ak0934', 'vm0377']\n",
            "Group 6: ['vb0218', 'ds0814', 'sc1229', 'bg0320', 'ak0956']\n"
          ]
        }
      ],
      "source": [
        "# write your answer here\n",
        "import random\n",
        "\n",
        "student_list = ['ja0964','sa1198','sb1357','vb0218','sc1229','kg0569','kg0470','sg1297','bg0320','fh0141','jl1252','sk1386', 'ak0956','sk1390','sk1458','sk1313','ak0934','vm0377','nm0618','sm1640','sm1907','gn0108','pr0353','dr0609','ms1500','aos0040','ds0814', 'av0659','nv0234','hy0232']\n",
        "\n",
        "random.shuffle(student_list)\n",
        "\n",
        "# Divide the students into groups\n",
        "num_groups = 6\n",
        "group_size = (len(student_list) + num_groups - 1) // num_groups\n",
        "if group_size>6:\n",
        "    group_size =6\n",
        "elif group_size<4:\n",
        "    group_size =4\n",
        "    \n",
        "groups = [student_list[i:i+group_size] for i in range(0, len(student_list), group_size)]\n",
        "\n",
        "# Print the groups\n",
        "for i, group in enumerate(groups):\n",
        "    print(\"Group {}: {}\".format(i+1, group))"
      ]
    },
    {
      "cell_type": "markdown",
      "metadata": {
        "id": "MHCqdWxq5c0Z"
      },
      "source": [
        "(10) Write a Python program to find the duplicate elements in a given array of integers. Return -1 If there are no such elements. (4 points)"
      ]
    },
    {
      "cell_type": "code",
      "execution_count": 10,
      "metadata": {
        "id": "lNz-Iqjv5c0Z",
        "colab": {
          "base_uri": "https://localhost:8080/"
        },
        "outputId": "80fac631-04b1-4760-80d7-6b3bd2913b05"
      },
      "outputs": [
        {
          "output_type": "stream",
          "name": "stdout",
          "text": [
            "-1\n",
            "3\n"
          ]
        }
      ],
      "source": [
        "# write your answer here\n",
        "def duplicate_element(num):\n",
        "    num_set = set()\n",
        "    no_duplicate = -1\n",
        "    for i in range(len(num)):\n",
        "      if num[i] in num_set:\n",
        "            return num[i]\n",
        "      else:\n",
        "            num_set.add(num[i])\n",
        "    return no_duplicate\n",
        "print(duplicate_element([1, 2, 3, 4, 5]))\n",
        "print(duplicate_element([1, 2, 3, 3, 2, 2, 4, 4]))\n",
        "     "
      ]
    },
    {
      "cell_type": "markdown",
      "metadata": {
        "id": "333h7GhJ5c0Z"
      },
      "source": [
        "(11) Write a Python program to select all the Sundays of a specified year. (4 extra points)"
      ]
    },
    {
      "cell_type": "code",
      "execution_count": 14,
      "metadata": {
        "id": "tGVFMgqL5c0a",
        "colab": {
          "base_uri": "https://localhost:8080/"
        },
        "outputId": "a792cbef-4be5-4dc3-97e5-6aa9c812b945"
      },
      "outputs": [
        {
          "output_type": "stream",
          "name": "stdout",
          "text": [
            "2020-01-05\n",
            "2020-01-12\n",
            "2020-01-19\n",
            "2020-01-26\n",
            "2020-02-02\n",
            "2020-02-09\n",
            "2020-02-16\n",
            "2020-02-23\n",
            "2020-03-01\n",
            "2020-03-08\n",
            "2020-03-15\n",
            "2020-03-22\n",
            "2020-03-29\n",
            "2020-04-05\n",
            "2020-04-12\n",
            "2020-04-19\n",
            "2020-04-26\n",
            "2020-05-03\n",
            "2020-05-10\n",
            "2020-05-17\n",
            "2020-05-24\n",
            "2020-05-31\n",
            "2020-06-07\n",
            "2020-06-14\n",
            "2020-06-21\n",
            "2020-06-28\n",
            "2020-07-05\n",
            "2020-07-12\n",
            "2020-07-19\n",
            "2020-07-26\n",
            "2020-08-02\n",
            "2020-08-09\n",
            "2020-08-16\n",
            "2020-08-23\n",
            "2020-08-30\n",
            "2020-09-06\n",
            "2020-09-13\n",
            "2020-09-20\n",
            "2020-09-27\n",
            "2020-10-04\n",
            "2020-10-11\n",
            "2020-10-18\n",
            "2020-10-25\n",
            "2020-11-01\n",
            "2020-11-08\n",
            "2020-11-15\n",
            "2020-11-22\n",
            "2020-11-29\n",
            "2020-12-06\n",
            "2020-12-13\n",
            "2020-12-20\n",
            "2020-12-27\n"
          ]
        }
      ],
      "source": [
        "# write your answer here\n",
        "from datetime import date, timedelta\n",
        "def sundays(year):\n",
        "       date2 = date(year, 1, 1)       \n",
        "       date2 += timedelta(days = 6 - date2.weekday())  \n",
        "       while date2.year == year:\n",
        "          yield date2\n",
        "          date2 += timedelta(days = 7)\n",
        "for sun in sundays(2020):\n",
        "   print(sun)"
      ]
    }
  ],
  "metadata": {
    "colab": {
      "provenance": [],
      "include_colab_link": true
    },
    "kernelspec": {
      "display_name": "Python 3 (ipykernel)",
      "language": "python",
      "name": "python3"
    },
    "language_info": {
      "codemirror_mode": {
        "name": "ipython",
        "version": 3
      },
      "file_extension": ".py",
      "mimetype": "text/x-python",
      "name": "python",
      "nbconvert_exporter": "python",
      "pygments_lexer": "ipython3",
      "version": "3.9.12"
    }
  },
  "nbformat": 4,
  "nbformat_minor": 0
}